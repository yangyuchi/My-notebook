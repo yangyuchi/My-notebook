{
 "cells": [
  {
   "cell_type": "code",
   "execution_count": 17,
   "metadata": {},
   "outputs": [
    {
     "name": "stdout",
     "output_type": "stream",
     "text": [
      "[0.0, 0.0, 0.0, 0.0, 0.9, 0.999]\n",
      "[7.006135, 104.642395, 1.6115383, 2.7592695, 0.004638391, 0.9502551]\n",
      "[0.21881971, 99.81144, 0.3339993, 2.6302314, 2.3905195e-05, 0.90388846]\n",
      "W: 1.957186\n",
      "b: 1.252315\n",
      "[0.0, 0.0, 0.0, 0.0, 0.9, 0.999]\n",
      "[0.0, 0.0, 0.0, 0.0, 0.9, 0.999]\n",
      "[0.0, 0.0, 0.0, 0.0, 0.9, 0.999]\n",
      "W: 2.003685\n",
      "b: 1.004915\n"
     ]
    }
   ],
   "source": [
    "import numpy as np\n",
    "import tensorflow as tf\n",
    "\n",
    "# Model linear regression y = Wx + b\n",
    "x = tf.placeholder(tf.float32, [None, ])\n",
    "W = tf.Variable(0.0)\n",
    "b = tf.Variable(0.0)\n",
    "y = W * x + b\n",
    "y_ = tf.placeholder(tf.float32, [None, ])\n",
    "\n",
    "# Cost function sum((y_-y)**2)\n",
    "cost = tf.reduce_mean(tf.squared_difference(y_, y))\n",
    "with tf.variable_scope('optimizer'):\n",
    "    optimizer = tf.train.AdamOptimizer(0.1, name='Optimizer')\n",
    "update_op = optimizer.minimize(cost)\n",
    "init = tf.global_variables_initializer()\n",
    "\n",
    "reset_optimizer_op = tf.variables_initializer(optimizer.variables())\n",
    "\n",
    "xs = np.arange(10)\n",
    "ys = [(2 * x + 1) for x in xs]\n",
    "with tf.Session() as sess:\n",
    "    sess.run(init)\n",
    "    for i in range(3):\n",
    "        print(sess.run(optimizer.variables()))\n",
    "        for j in range(50):\n",
    "            feed = {x: xs, y_: ys}\n",
    "            sess.run(update_op, feed_dict=feed)\n",
    "\n",
    "    print(\"W: %f\" % sess.run(W))\n",
    "    print(\"b: %f\" % sess.run(b))\n",
    "    \n",
    "with tf.Session() as sess:\n",
    "    sess.run(init)\n",
    "    for i in range(3):\n",
    "        print(sess.run(optimizer.variables()))\n",
    "        for j in range(50):\n",
    "            feed = {x: xs, y_: ys}\n",
    "            sess.run(update_op, feed_dict=feed)\n",
    "        sess.run(reset_optimizer_op)\n",
    "\n",
    "    print(\"W: %f\" % sess.run(W))\n",
    "    print(\"b: %f\" % sess.run(b))\n",
    "\n"
   ]
  },
  {
   "cell_type": "code",
   "execution_count": 18,
   "metadata": {},
   "outputs": [
    {
     "data": {
      "text/plain": [
       "['m', 'v']"
      ]
     },
     "execution_count": 18,
     "metadata": {},
     "output_type": "execute_result"
    }
   ],
   "source": [
    "optimizer.get_slot_names()"
   ]
  }
 ],
 "metadata": {
  "kernelspec": {
   "display_name": "Python 3",
   "language": "python",
   "name": "python3"
  },
  "language_info": {
   "codemirror_mode": {
    "name": "ipython",
    "version": 3
   },
   "file_extension": ".py",
   "mimetype": "text/x-python",
   "name": "python",
   "nbconvert_exporter": "python",
   "pygments_lexer": "ipython3",
   "version": "3.6.2"
  }
 },
 "nbformat": 4,
 "nbformat_minor": 2
}
